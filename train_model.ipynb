{
 "cells": [
  {
   "cell_type": "code",
   "execution_count": 1,
   "metadata": {},
   "outputs": [
    {
     "name": "stdout",
     "output_type": "stream",
     "text": [
      "   id                                        review_text sentiment  \\\n",
      "0   1  I rented I AM CURIOUS-YELLOW from my video sto...  negative   \n",
      "1   2  \"I Am Curious: Yellow\" is a risible and preten...  negative   \n",
      "2   3  If only to avoid making this type of film in t...  negative   \n",
      "3   4  This film was probably inspired by Godard's Ma...  negative   \n",
      "4   5  Oh, brother...after hearing about this ridicul...  negative   \n",
      "\n",
      "                                      cleaned_review  \n",
      "0  i rented i am curiousyellow from my video stor...  \n",
      "1  i am curious yellow is a risible and pretentio...  \n",
      "2  if only to avoid making this type of film in t...  \n",
      "3  this film was probably inspired by godards mas...  \n",
      "4  oh brotherafter hearing about this ridiculous ...  \n"
     ]
    }
   ],
   "source": [
    "import pandas as pd\n",
    "import re\n",
    "\n",
    "# Load data from your database\n",
    "import sqlite3\n",
    "conn = sqlite3.connect(\"imdb_reviews.db\")\n",
    "reviews_df = pd.read_sql_query(\"SELECT * FROM imdb_reviews\", conn)\n",
    "\n",
    "# Define a cleaning function\n",
    "def clean_text(text):\n",
    "    # Remove HTML tags\n",
    "    text = re.sub(r\"<.*?>\", \"\", text)\n",
    "    # Remove special characters and digits\n",
    "    text = re.sub(r\"[^a-zA-Z\\s]\", \"\", text)\n",
    "    # Convert to lowercase\n",
    "    text = text.lower()\n",
    "    # Remove extra spaces\n",
    "    text = re.sub(r\"\\s+\", \" \", text).strip()\n",
    "    return text\n",
    "\n",
    "# Apply cleaning to the review_text column\n",
    "reviews_df['cleaned_review'] = reviews_df['review_text'].apply(clean_text)\n",
    "\n",
    "# Check for duplicates and remove them\n",
    "reviews_df = reviews_df.drop_duplicates(subset=['cleaned_review'])\n",
    "\n",
    "# Print the first few rows of cleaned data\n",
    "print(reviews_df.head())\n"
   ]
  },
  {
   "cell_type": "code",
   "execution_count": 2,
   "metadata": {},
   "outputs": [],
   "source": [
    "from sklearn.feature_extraction.text import TfidfVectorizer\n",
    "\n",
    "# Create TF-IDF vectors\n",
    "vectorizer = TfidfVectorizer(max_features=5000, stop_words='english')\n",
    "X = vectorizer.fit_transform(reviews_df['cleaned_review'])\n",
    "\n",
    "# Target labels\n",
    "y = reviews_df['sentiment'].apply(lambda x: 1 if x == \"positive\" else 0)\n"
   ]
  },
  {
   "cell_type": "code",
   "execution_count": 3,
   "metadata": {},
   "outputs": [],
   "source": [
    "from sklearn.model_selection import train_test_split\n",
    "\n",
    "# Train/test split (already provided)\n",
    "X_train, X_test, y_train, y_test = train_test_split(X, y, test_size=0.25, random_state=42)\n",
    "\n",
    "# Further split training data into training and validation sets\n",
    "X_train, X_val, y_train, y_val = train_test_split(X_train, y_train, test_size=0.2, random_state=42)\n"
   ]
  },
  {
   "cell_type": "code",
   "execution_count": 4,
   "metadata": {},
   "outputs": [
    {
     "name": "stdout",
     "output_type": "stream",
     "text": [
      "Validation Accuracy: 0.88\n",
      "Validation F1-Score: 0.88\n"
     ]
    }
   ],
   "source": [
    "from sklearn.linear_model import LogisticRegression\n",
    "from sklearn.metrics import accuracy_score, f1_score, classification_report\n",
    "\n",
    "# Initialize Logistic Regression model\n",
    "model = LogisticRegression(max_iter=200)\n",
    "model.fit(X_train, y_train)\n",
    "\n",
    "# Predict on validation set\n",
    "y_val_pred = model.predict(X_val)\n",
    "\n",
    "# Calculate validation metrics\n",
    "val_accuracy = accuracy_score(y_val, y_val_pred)\n",
    "val_f1 = f1_score(y_val, y_val_pred)\n",
    "\n",
    "print(f\"Validation Accuracy: {val_accuracy:.2f}\")\n",
    "print(f\"Validation F1-Score: {val_f1:.2f}\")\n"
   ]
  },
  {
   "cell_type": "code",
   "execution_count": 5,
   "metadata": {},
   "outputs": [
    {
     "name": "stdout",
     "output_type": "stream",
     "text": [
      "              precision    recall  f1-score   support\n",
      "\n",
      "    negative       0.89      0.87      0.88      6252\n",
      "    positive       0.87      0.89      0.88      6143\n",
      "\n",
      "    accuracy                           0.88     12395\n",
      "   macro avg       0.88      0.88      0.88     12395\n",
      "weighted avg       0.88      0.88      0.88     12395\n",
      "\n"
     ]
    }
   ],
   "source": [
    "# Predict on test set\n",
    "y_test_pred = model.predict(X_test)\n",
    "\n",
    "# Generate classification report\n",
    "print(classification_report(y_test, y_test_pred, target_names=[\"negative\", \"positive\"]))\n"
   ]
  },
  {
   "cell_type": "code",
   "execution_count": null,
   "metadata": {},
   "outputs": [],
   "source": []
  }
 ],
 "metadata": {
  "kernelspec": {
   "display_name": "Python 3",
   "language": "python",
   "name": "python3"
  },
  "language_info": {
   "codemirror_mode": {
    "name": "ipython",
    "version": 3
   },
   "file_extension": ".py",
   "mimetype": "text/x-python",
   "name": "python",
   "nbconvert_exporter": "python",
   "pygments_lexer": "ipython3",
   "version": "3.11.9"
  }
 },
 "nbformat": 4,
 "nbformat_minor": 2
}
